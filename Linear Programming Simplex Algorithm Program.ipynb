{
 "cells": [
  {
   "cell_type": "code",
   "execution_count": 32,
   "metadata": {},
   "outputs": [],
   "source": [
    "import matplotlib.pyplot as plt\n",
    "import numpy as np\n",
    "import pandas as pd\n",
    "%matplotlib inline"
   ]
  },
  {
   "cell_type": "code",
   "execution_count": 33,
   "metadata": {},
   "outputs": [],
   "source": [
    "col_1 = [2,1,-7]\n",
    "col_2 = [3,1,-8]\n",
    "col_3 = [2,2,-10]\n",
    "col_4 = [1,0,0]\n",
    "col_5 = [0,1,0]\n",
    "col_6 = [0,0,1],\n",
    "col_7 = [1000, 800, 0]\n"
   ]
  },
  {
   "cell_type": "code",
   "execution_count": 34,
   "metadata": {},
   "outputs": [],
   "source": [
    "TABLEAU = pd.DataFrame({\n",
    "    'x1':col_1,\n",
    "    'x2':col_2,\n",
    "    'x3':col_3,\n",
    "    's1':col_4,\n",
    "    's2':col_5,\n",
    "    'p':[0,0,1],\n",
    "    'RHS': col_7,\n",
    "})"
   ]
  },
  {
   "cell_type": "code",
   "execution_count": 35,
   "metadata": {},
   "outputs": [
    {
     "data": {
      "text/html": [
       "<div>\n",
       "<style scoped>\n",
       "    .dataframe tbody tr th:only-of-type {\n",
       "        vertical-align: middle;\n",
       "    }\n",
       "\n",
       "    .dataframe tbody tr th {\n",
       "        vertical-align: top;\n",
       "    }\n",
       "\n",
       "    .dataframe thead th {\n",
       "        text-align: right;\n",
       "    }\n",
       "</style>\n",
       "<table border=\"1\" class=\"dataframe\">\n",
       "  <thead>\n",
       "    <tr style=\"text-align: right;\">\n",
       "      <th></th>\n",
       "      <th>x1</th>\n",
       "      <th>x2</th>\n",
       "      <th>x3</th>\n",
       "      <th>s1</th>\n",
       "      <th>s2</th>\n",
       "      <th>p</th>\n",
       "      <th>RHS</th>\n",
       "    </tr>\n",
       "  </thead>\n",
       "  <tbody>\n",
       "    <tr>\n",
       "      <th>0</th>\n",
       "      <td>2</td>\n",
       "      <td>3</td>\n",
       "      <td>2</td>\n",
       "      <td>1</td>\n",
       "      <td>0</td>\n",
       "      <td>0</td>\n",
       "      <td>1000</td>\n",
       "    </tr>\n",
       "    <tr>\n",
       "      <th>1</th>\n",
       "      <td>1</td>\n",
       "      <td>1</td>\n",
       "      <td>2</td>\n",
       "      <td>0</td>\n",
       "      <td>1</td>\n",
       "      <td>0</td>\n",
       "      <td>800</td>\n",
       "    </tr>\n",
       "    <tr>\n",
       "      <th>2</th>\n",
       "      <td>-7</td>\n",
       "      <td>-8</td>\n",
       "      <td>-10</td>\n",
       "      <td>0</td>\n",
       "      <td>0</td>\n",
       "      <td>1</td>\n",
       "      <td>0</td>\n",
       "    </tr>\n",
       "  </tbody>\n",
       "</table>\n",
       "</div>"
      ],
      "text/plain": [
       "   x1  x2  x3  s1  s2  p   RHS\n",
       "0   2   3   2   1   0  0  1000\n",
       "1   1   1   2   0   1  0   800\n",
       "2  -7  -8 -10   0   0  1     0"
      ]
     },
     "execution_count": 35,
     "metadata": {},
     "output_type": "execute_result"
    }
   ],
   "source": [
    "TABLEAU"
   ]
  },
  {
   "cell_type": "code",
   "execution_count": 36,
   "metadata": {},
   "outputs": [],
   "source": [
    "row_1 = list(TABLEAU.iloc[0])"
   ]
  },
  {
   "cell_type": "code",
   "execution_count": 37,
   "metadata": {},
   "outputs": [],
   "source": [
    "row_2 = list(TABLEAU.iloc[1])"
   ]
  },
  {
   "cell_type": "code",
   "execution_count": 38,
   "metadata": {},
   "outputs": [
    {
     "data": {
      "text/plain": [
       "[1, 1, 2, 0, 1, 0, 800]"
      ]
     },
     "execution_count": 38,
     "metadata": {},
     "output_type": "execute_result"
    }
   ],
   "source": [
    "row_2"
   ]
  },
  {
   "cell_type": "code",
   "execution_count": 39,
   "metadata": {},
   "outputs": [],
   "source": [
    "row_3 = list(TABLEAU.iloc[2])"
   ]
  },
  {
   "cell_type": "code",
   "execution_count": 40,
   "metadata": {},
   "outputs": [
    {
     "data": {
      "text/plain": [
       "[1000, 800, 0]"
      ]
     },
     "execution_count": 40,
     "metadata": {},
     "output_type": "execute_result"
    }
   ],
   "source": [
    "list(TABLEAU['RHS'])"
   ]
  },
  {
   "cell_type": "code",
   "execution_count": null,
   "metadata": {},
   "outputs": [],
   "source": []
  },
  {
   "cell_type": "code",
   "execution_count": 41,
   "metadata": {},
   "outputs": [
    {
     "data": {
      "text/plain": [
       "[-7, -8, -10, 0, 0, 1, 0]"
      ]
     },
     "execution_count": 41,
     "metadata": {},
     "output_type": "execute_result"
    }
   ],
   "source": [
    "row_3"
   ]
  },
  {
   "cell_type": "code",
   "execution_count": 42,
   "metadata": {},
   "outputs": [],
   "source": [
    "col1 = list(TABLEAU['x1'])"
   ]
  },
  {
   "cell_type": "code",
   "execution_count": 43,
   "metadata": {},
   "outputs": [
    {
     "data": {
      "text/plain": [
       "['x1', 'x2', 'x3', 's1', 's2', 'p', 'RHS']"
      ]
     },
     "execution_count": 43,
     "metadata": {},
     "output_type": "execute_result"
    }
   ],
   "source": [
    "#column headers\n",
    "list(TABLEAU)"
   ]
  },
  {
   "cell_type": "code",
   "execution_count": 44,
   "metadata": {},
   "outputs": [
    {
     "data": {
      "text/plain": [
       "-10"
      ]
     },
     "execution_count": 44,
     "metadata": {},
     "output_type": "execute_result"
    }
   ],
   "source": [
    "#DETERMINING THE PIVOT COLUMN AS AN INPUT TO THE BELOW FUNCTION:\n",
    "#Smallest value in row_3\n",
    "min(row_3)"
   ]
  },
  {
   "cell_type": "code",
   "execution_count": 45,
   "metadata": {},
   "outputs": [],
   "source": [
    "#determining to which column this value belongs so we can use it\n",
    "#Iterates through the TABLEAU dataframe in order to find which column has a value in its 3rd entry equal to that of the \n",
    "#minimum value element of row_3;\n",
    "def pivot_column_detector(TABLEAU):\n",
    "    for i in range(len(list(TABLEAU))):\n",
    "        col_title = list(TABLEAU)\n",
    "        #len(TABLEAU) - 1 below in the square brackets\n",
    "        #could be replaced with \"2\" because this corresponds to the third element in the column,\n",
    "        #corresponding to the same element in row_3 we are trying to match it with.\n",
    "        if list(TABLEAU[col_title[i]])[len(TABLEAU)-1] == min(row_3):\n",
    "            #return(col_title[i]),and location of the pivot column\n",
    "            return((list(TABLEAU[col_title[i]]),i))"
   ]
  },
  {
   "cell_type": "code",
   "execution_count": 46,
   "metadata": {},
   "outputs": [
    {
     "data": {
      "text/plain": [
       "([2, 2, -10], 2)"
      ]
     },
     "execution_count": 46,
     "metadata": {},
     "output_type": "execute_result"
    }
   ],
   "source": [
    "pivot_column_detector(TABLEAU)\n",
    "#col = list(TABLEAU[pivot_column_detector(TABLEAU)])\n",
    "#list(TABLEAU[col_title[i]])"
   ]
  },
  {
   "cell_type": "code",
   "execution_count": 47,
   "metadata": {},
   "outputs": [],
   "source": [
    "def ratiotest(DATAFRAME):\n",
    "    #col = list(TABLEAU[pivot_column_detector(TABLEAU)])\n",
    "    col = pivot_column_detector(TABLEAU)[0]\n",
    "    \n",
    "    A = []\n",
    "    RHS = list(DATAFRAME['RHS'])\n",
    "    for i in range(len(col)-1):\n",
    "            #dividing the RHS by POSITIVE pivot element\n",
    "            if col[i]>=0:\n",
    "                A.append(RHS[i]/col[i])\n",
    "                #gives values of minimum ratio, and the pivot row location\n",
    "    return(min(A),i)"
   ]
  },
  {
   "cell_type": "code",
   "execution_count": 48,
   "metadata": {},
   "outputs": [
    {
     "data": {
      "text/plain": [
       "(400.0, 1)"
      ]
     },
     "execution_count": 48,
     "metadata": {},
     "output_type": "execute_result"
    }
   ],
   "source": [
    "ratiotest(TABLEAU)"
   ]
  },
  {
   "cell_type": "code",
   "execution_count": 49,
   "metadata": {},
   "outputs": [],
   "source": [
    "#NORMALIZES PIVOT ROW FOR FUTURE CALCULATIONS\n",
    "def Pivot_Row_Normalizer(DATAFRAME):\n",
    "    piv_col_no = pivot_column_detector(DATAFRAME)[1]\n",
    "    piv_row_no = ratiotest(DATAFRAME)[1]  \n",
    "    D = []\n",
    "\n",
    "    pivot_row = list(DATAFRAME.iloc[piv_row_no])\n",
    "    pivot_elmnt =  pivot_row[piv_col_no]\n",
    "    \n",
    "    for i in range(len(list(DATAFRAME))):\n",
    "        normalized_pivot_row = pivot_row[i]/pivot_elmnt\n",
    "        D.append(normalized_pivot_row)\n",
    "    return(D)"
   ]
  },
  {
   "cell_type": "code",
   "execution_count": 50,
   "metadata": {},
   "outputs": [
    {
     "data": {
      "text/plain": [
       "[0.5, 0.5, 1.0, 0.0, 0.5, 0.0, 400.0]"
      ]
     },
     "execution_count": 50,
     "metadata": {},
     "output_type": "execute_result"
    }
   ],
   "source": [
    "#which is exactly what we wanted!!\n",
    "Pivot_Row_Normalizer(TABLEAU)"
   ]
  },
  {
   "cell_type": "markdown",
   "metadata": {},
   "source": [
    "# Row Operations\n",
    "    Now that we have normalized the pivot row, we take the ratio between out pivot element and the elements of the other \n",
    "    rows in the same column, then perform the required row operations needed to make the pivot column correspond to a \n",
    "    Basic Variable. Then we print the newly minted dataframe and see if any negatives are left in the bottom row."
   ]
  },
  {
   "cell_type": "code",
   "execution_count": 51,
   "metadata": {},
   "outputs": [],
   "source": [
    "def Row_Ratio(DATAFRAME):   \n",
    "    \n",
    "    \n",
    "        \n",
    "    piv_col_no = pivot_column_detector(DATAFRAME)[1]\n",
    "    piv_row_no = ratiotest(DATAFRAME)[1]  \n",
    "    normalized_pivot_row = Pivot_Row_Normalizer(DATAFRAME)\n",
    "    normalized_pivot_elmnt =  normalized_pivot_row[piv_col_no]\n",
    "    \n",
    "\n",
    "    #Determine the ratios needed between elements and the pivot element\n",
    "    Q = []\n",
    "    for i in range(len(DATAFRAME)):\n",
    "        if i != piv_row_no:\n",
    "            elmnt = list(DATAFRAME.iloc[i])[piv_col_no]\n",
    "        \n",
    "            Q.append(elmnt)\n",
    "    return Q"
   ]
  },
  {
   "cell_type": "code",
   "execution_count": 52,
   "metadata": {},
   "outputs": [
    {
     "data": {
      "text/plain": [
       "[2, -10]"
      ]
     },
     "execution_count": 52,
     "metadata": {},
     "output_type": "execute_result"
    }
   ],
   "source": [
    "#As Expected\n",
    "Row_Ratio(TABLEAU)"
   ]
  },
  {
   "cell_type": "code",
   "execution_count": 53,
   "metadata": {},
   "outputs": [
    {
     "data": {
      "text/plain": [
       "[0.5, 0.5, 1.0, 0.0, 0.5, 0.0, 400.0]"
      ]
     },
     "execution_count": 53,
     "metadata": {},
     "output_type": "execute_result"
    }
   ],
   "source": [
    "Pivot_Row_Normalizer(TABLEAU)"
   ]
  },
  {
   "cell_type": "code",
   "execution_count": 54,
   "metadata": {},
   "outputs": [],
   "source": [
    "def Row_Operator(DATAFRAME):\n",
    "    new_rows = []\n",
    "    for i in range(len(list(DATAFRAME))):\n",
    "    \n",
    "        for j in range(len(DATAFRAME)-1):\n",
    "            #Iterates through all rows except the pivot row\n",
    "            if j != ratiotest(DATAFRAME)[1]:\n",
    "                #ratio = np.array(Row_Ratio(DATAFRAME)[j])\n",
    "                #takeaway = ratio*Pivot_Row_Normalizer(DATAFRAME)[i]\n",
    "                #Multiply the elements of the new pivot row by the row ratios and subtract from each column:\n",
    "                ratio = np.array(Row_Ratio(DATAFRAME)[j])\n",
    "                result = np.array(list(TABLEAU.iloc[j])[i]) - np.array(Row_Ratio(TABLEAU)[j])*np.array(Pivot_Row_Normalizer(TABLEAU)[i])\n",
    "            \n",
    "                new_rows.append(result)\n",
    "    return new_rows"
   ]
  },
  {
   "cell_type": "code",
   "execution_count": 55,
   "metadata": {},
   "outputs": [],
   "source": [
    "def Row_Operator2(DATAFRAME):\n",
    "    new_rows1 = []\n",
    "    new_rows2 = []\n",
    "    new_rows3 = []\n",
    "    for i in range(len(list(DATAFRAME))):\n",
    "    \n",
    "        for j in range(len(DATAFRAME)-1):\n",
    "            #Iterates through all rows except the pivot row\n",
    "            if j != ratiotest(DATAFRAME)[1]:\n",
    "                #ratio = np.array(Row_Ratio(DATAFRAME)[j])\n",
    "                #takeaway = ratio*Pivot_Row_Normalizer(DATAFRAME)[i]\n",
    "                #Multiply the elements of the new pivot row by the row ratios and subtract from each column:\n",
    "                \n",
    "                ratio = np.array(Row_Ratio(DATAFRAME)[0])\n",
    "                result1 = np.array(list(TABLEAU.iloc[j])[i]) - np.array(Row_Ratio(TABLEAU)[0])*np.array(Pivot_Row_Normalizer(TABLEAU)[i])\n",
    "                \n",
    "            else:\n",
    "                #ratio2 = np.array(Row_Ratio(DATAFRAME)[0])\n",
    "                #result2 = np.array(list(TABLEAU.iloc[j+2])[i]) - np.array(Row_Ratio(TABLEAU)[1])*np.array(Pivot_Row_Normalizer(TABLEAU)[i])\n",
    "                \n",
    "\n",
    "                #ratio = np.array(Row_Ratio(DATAFRAME)[0])\n",
    "                result2 = np.array(list(TABLEAU.iloc[j+1])[i]) - np.array(Row_Ratio(TABLEAU)[1])*np.array(Pivot_Row_Normalizer(TABLEAU)[i])\n",
    "                \n",
    "                \n",
    "                \n",
    "                new_rows1.append(result1)\n",
    "                new_rows2.append(result2)\n",
    "    return new_rows1 , new_rows2"
   ]
  },
  {
   "cell_type": "code",
   "execution_count": 112,
   "metadata": {},
   "outputs": [
    {
     "data": {
      "text/plain": [
       "([1.0, 2.0, 0.0, 1.0, -1.0, 0.0, 200.0],\n",
       " [-2.0, -3.0, 0.0, 0.0, 5.0, 1.0, 4000.0])"
      ]
     },
     "execution_count": 112,
     "metadata": {},
     "output_type": "execute_result"
    }
   ],
   "source": [
    "#This is exactly what we want!!!!\n",
    "Row_Operator2(TABLEAU)\n",
    "#Row_Ratio(TABLEAU)\n",
    "#ratiotest(TABLEAU)[1]"
   ]
  },
  {
   "cell_type": "code",
   "execution_count": 200,
   "metadata": {},
   "outputs": [
    {
     "data": {
      "text/plain": [
       "[0.5, 0.5, 1.0, 0.0, 0.5, 0.0, 400.0]"
      ]
     },
     "execution_count": 200,
     "metadata": {},
     "output_type": "execute_result"
    }
   ],
   "source": [
    "Pivot_Row_Normalizer(TABLEAU)  \n",
    "#F(TABLEAU)"
   ]
  },
  {
   "cell_type": "code",
   "execution_count": 199,
   "metadata": {},
   "outputs": [
    {
     "ename": "NameError",
     "evalue": "name 'pivot_row' is not defined",
     "output_type": "error",
     "traceback": [
      "\u001b[0;31m---------------------------------------------------------------------------\u001b[0m",
      "\u001b[0;31mNameError\u001b[0m                                 Traceback (most recent call last)",
      "\u001b[0;32m<ipython-input-199-5525b0ee5c02>\u001b[0m in \u001b[0;36m<module>\u001b[0;34m\u001b[0m\n\u001b[0;32m----> 1\u001b[0;31m \u001b[0mpivot_row\u001b[0m\u001b[0;34m(\u001b[0m\u001b[0mTABLEAU\u001b[0m\u001b[0;34m)\u001b[0m\u001b[0;34m\u001b[0m\u001b[0;34m\u001b[0m\u001b[0m\n\u001b[0m",
      "\u001b[0;31mNameError\u001b[0m: name 'pivot_row' is not defined"
     ]
    }
   ],
   "source": [
    "T"
   ]
  },
  {
   "cell_type": "code",
   "execution_count": 196,
   "metadata": {},
   "outputs": [
    {
     "data": {
      "text/plain": [
       "'x1'"
      ]
     },
     "execution_count": 196,
     "metadata": {},
     "output_type": "execute_result"
    }
   ],
   "source": [
    "data_1 = G(TABLEAU)\n",
    "ARR = []\n",
    "\n",
    "ARR.append(list(TABLEAU)[0])\n",
    "ARR.append(data_1)\n",
    "J = ARR[0],\":\",ARR[1]\n",
    "\n",
    "ARR[0]"
   ]
  },
  {
   "cell_type": "code",
   "execution_count": null,
   "metadata": {},
   "outputs": [],
   "source": []
  },
  {
   "cell_type": "code",
   "execution_count": 142,
   "metadata": {},
   "outputs": [
    {
     "data": {
      "text/plain": [
       "'123asdwer'"
      ]
     },
     "execution_count": 142,
     "metadata": {},
     "output_type": "execute_result"
    }
   ],
   "source": [
    "a=\"123,asd,wer\"\n",
    "a.replace(\",\", \"\")"
   ]
  },
  {
   "cell_type": "code",
   "execution_count": 133,
   "metadata": {},
   "outputs": [
    {
     "data": {
      "text/plain": [
       "[-2.0, -3.0, 0.0, 0.0, 5.0, 1.0, 4000.0]"
      ]
     },
     "execution_count": 133,
     "metadata": {},
     "output_type": "execute_result"
    }
   ],
   "source": [
    "data_1"
   ]
  },
  {
   "cell_type": "code",
   "execution_count": 132,
   "metadata": {},
   "outputs": [
    {
     "data": {
      "text/plain": [
       "'x2'"
      ]
     },
     "execution_count": 132,
     "metadata": {},
     "output_type": "execute_result"
    }
   ],
   "source": [
    "list(TABLEAU)[1]"
   ]
  },
  {
   "cell_type": "code",
   "execution_count": null,
   "metadata": {},
   "outputs": [],
   "source": [
    "t2.append(data_1)\n",
    "t2 = t2.append(data_1, ignore_index=False)"
   ]
  },
  {
   "cell_type": "code",
   "execution_count": 130,
   "metadata": {},
   "outputs": [
    {
     "name": "stderr",
     "output_type": "stream",
     "text": [
      "/home/david/anaconda3/lib/python3.7/site-packages/pandas/core/indexing.py:1494: FutureWarning: \n",
      "Passing list-likes to .loc or [] with any missing label will raise\n",
      "KeyError in the future, you can use .reindex() as an alternative.\n",
      "\n",
      "See the documentation here:\n",
      "https://pandas.pydata.org/pandas-docs/stable/indexing.html#deprecate-loc-reindex-listlike\n",
      "  return self._getitem_tuple(key)\n"
     ]
    },
    {
     "data": {
      "text/html": [
       "<div>\n",
       "<style scoped>\n",
       "    .dataframe tbody tr th:only-of-type {\n",
       "        vertical-align: middle;\n",
       "    }\n",
       "\n",
       "    .dataframe tbody tr th {\n",
       "        vertical-align: top;\n",
       "    }\n",
       "\n",
       "    .dataframe thead th {\n",
       "        text-align: right;\n",
       "    }\n",
       "</style>\n",
       "<table border=\"1\" class=\"dataframe\">\n",
       "  <thead>\n",
       "    <tr style=\"text-align: right;\">\n",
       "      <th></th>\n",
       "      <th>0</th>\n",
       "      <th>RHS</th>\n",
       "      <th>p</th>\n",
       "      <th>s1</th>\n",
       "      <th>s2</th>\n",
       "      <th>x1</th>\n",
       "      <th>x2</th>\n",
       "      <th>x3</th>\n",
       "    </tr>\n",
       "  </thead>\n",
       "  <tbody>\n",
       "    <tr>\n",
       "      <th>0</th>\n",
       "      <td>NaN</td>\n",
       "      <td>1000.0</td>\n",
       "      <td>0.0</td>\n",
       "      <td>1.0</td>\n",
       "      <td>0.0</td>\n",
       "      <td>2.0</td>\n",
       "      <td>3.0</td>\n",
       "      <td>2.0</td>\n",
       "    </tr>\n",
       "    <tr>\n",
       "      <th>1</th>\n",
       "      <td>-2.0</td>\n",
       "      <td>NaN</td>\n",
       "      <td>NaN</td>\n",
       "      <td>NaN</td>\n",
       "      <td>NaN</td>\n",
       "      <td>NaN</td>\n",
       "      <td>NaN</td>\n",
       "      <td>NaN</td>\n",
       "    </tr>\n",
       "    <tr>\n",
       "      <th>2</th>\n",
       "      <td>NaN</td>\n",
       "      <td>800.0</td>\n",
       "      <td>0.0</td>\n",
       "      <td>0.0</td>\n",
       "      <td>1.0</td>\n",
       "      <td>1.0</td>\n",
       "      <td>1.0</td>\n",
       "      <td>2.0</td>\n",
       "    </tr>\n",
       "    <tr>\n",
       "      <th>3</th>\n",
       "      <td>-3.0</td>\n",
       "      <td>NaN</td>\n",
       "      <td>NaN</td>\n",
       "      <td>NaN</td>\n",
       "      <td>NaN</td>\n",
       "      <td>NaN</td>\n",
       "      <td>NaN</td>\n",
       "      <td>NaN</td>\n",
       "    </tr>\n",
       "    <tr>\n",
       "      <th>4</th>\n",
       "      <td>NaN</td>\n",
       "      <td>0.0</td>\n",
       "      <td>1.0</td>\n",
       "      <td>0.0</td>\n",
       "      <td>0.0</td>\n",
       "      <td>-7.0</td>\n",
       "      <td>-8.0</td>\n",
       "      <td>-10.0</td>\n",
       "    </tr>\n",
       "    <tr>\n",
       "      <th>5</th>\n",
       "      <td>0.0</td>\n",
       "      <td>NaN</td>\n",
       "      <td>NaN</td>\n",
       "      <td>NaN</td>\n",
       "      <td>NaN</td>\n",
       "      <td>NaN</td>\n",
       "      <td>NaN</td>\n",
       "      <td>NaN</td>\n",
       "    </tr>\n",
       "    <tr>\n",
       "      <th>6</th>\n",
       "      <td>0.0</td>\n",
       "      <td>NaN</td>\n",
       "      <td>NaN</td>\n",
       "      <td>NaN</td>\n",
       "      <td>NaN</td>\n",
       "      <td>NaN</td>\n",
       "      <td>NaN</td>\n",
       "      <td>NaN</td>\n",
       "    </tr>\n",
       "    <tr>\n",
       "      <th>7</th>\n",
       "      <td>5.0</td>\n",
       "      <td>NaN</td>\n",
       "      <td>NaN</td>\n",
       "      <td>NaN</td>\n",
       "      <td>NaN</td>\n",
       "      <td>NaN</td>\n",
       "      <td>NaN</td>\n",
       "      <td>NaN</td>\n",
       "    </tr>\n",
       "    <tr>\n",
       "      <th>8</th>\n",
       "      <td>1.0</td>\n",
       "      <td>NaN</td>\n",
       "      <td>NaN</td>\n",
       "      <td>NaN</td>\n",
       "      <td>NaN</td>\n",
       "      <td>NaN</td>\n",
       "      <td>NaN</td>\n",
       "      <td>NaN</td>\n",
       "    </tr>\n",
       "    <tr>\n",
       "      <th>9</th>\n",
       "      <td>4000.0</td>\n",
       "      <td>NaN</td>\n",
       "      <td>NaN</td>\n",
       "      <td>NaN</td>\n",
       "      <td>NaN</td>\n",
       "      <td>NaN</td>\n",
       "      <td>NaN</td>\n",
       "      <td>NaN</td>\n",
       "    </tr>\n",
       "    <tr>\n",
       "      <th>0</th>\n",
       "      <td>-2.0</td>\n",
       "      <td>NaN</td>\n",
       "      <td>NaN</td>\n",
       "      <td>NaN</td>\n",
       "      <td>NaN</td>\n",
       "      <td>NaN</td>\n",
       "      <td>NaN</td>\n",
       "      <td>NaN</td>\n",
       "    </tr>\n",
       "    <tr>\n",
       "      <th>1</th>\n",
       "      <td>-3.0</td>\n",
       "      <td>NaN</td>\n",
       "      <td>NaN</td>\n",
       "      <td>NaN</td>\n",
       "      <td>NaN</td>\n",
       "      <td>NaN</td>\n",
       "      <td>NaN</td>\n",
       "      <td>NaN</td>\n",
       "    </tr>\n",
       "    <tr>\n",
       "      <th>2</th>\n",
       "      <td>0.0</td>\n",
       "      <td>NaN</td>\n",
       "      <td>NaN</td>\n",
       "      <td>NaN</td>\n",
       "      <td>NaN</td>\n",
       "      <td>NaN</td>\n",
       "      <td>NaN</td>\n",
       "      <td>NaN</td>\n",
       "    </tr>\n",
       "    <tr>\n",
       "      <th>3</th>\n",
       "      <td>0.0</td>\n",
       "      <td>NaN</td>\n",
       "      <td>NaN</td>\n",
       "      <td>NaN</td>\n",
       "      <td>NaN</td>\n",
       "      <td>NaN</td>\n",
       "      <td>NaN</td>\n",
       "      <td>NaN</td>\n",
       "    </tr>\n",
       "    <tr>\n",
       "      <th>4</th>\n",
       "      <td>5.0</td>\n",
       "      <td>NaN</td>\n",
       "      <td>NaN</td>\n",
       "      <td>NaN</td>\n",
       "      <td>NaN</td>\n",
       "      <td>NaN</td>\n",
       "      <td>NaN</td>\n",
       "      <td>NaN</td>\n",
       "    </tr>\n",
       "    <tr>\n",
       "      <th>5</th>\n",
       "      <td>1.0</td>\n",
       "      <td>NaN</td>\n",
       "      <td>NaN</td>\n",
       "      <td>NaN</td>\n",
       "      <td>NaN</td>\n",
       "      <td>NaN</td>\n",
       "      <td>NaN</td>\n",
       "      <td>NaN</td>\n",
       "    </tr>\n",
       "    <tr>\n",
       "      <th>6</th>\n",
       "      <td>4000.0</td>\n",
       "      <td>NaN</td>\n",
       "      <td>NaN</td>\n",
       "      <td>NaN</td>\n",
       "      <td>NaN</td>\n",
       "      <td>NaN</td>\n",
       "      <td>NaN</td>\n",
       "      <td>NaN</td>\n",
       "    </tr>\n",
       "  </tbody>\n",
       "</table>\n",
       "</div>"
      ],
      "text/plain": [
       "        0     RHS    p   s1   s2   x1   x2    x3\n",
       "0     NaN  1000.0  0.0  1.0  0.0  2.0  3.0   2.0\n",
       "1    -2.0     NaN  NaN  NaN  NaN  NaN  NaN   NaN\n",
       "2     NaN   800.0  0.0  0.0  1.0  1.0  1.0   2.0\n",
       "3    -3.0     NaN  NaN  NaN  NaN  NaN  NaN   NaN\n",
       "4     NaN     0.0  1.0  0.0  0.0 -7.0 -8.0 -10.0\n",
       "5     0.0     NaN  NaN  NaN  NaN  NaN  NaN   NaN\n",
       "6     0.0     NaN  NaN  NaN  NaN  NaN  NaN   NaN\n",
       "7     5.0     NaN  NaN  NaN  NaN  NaN  NaN   NaN\n",
       "8     1.0     NaN  NaN  NaN  NaN  NaN  NaN   NaN\n",
       "9  4000.0     NaN  NaN  NaN  NaN  NaN  NaN   NaN\n",
       "0    -2.0     NaN  NaN  NaN  NaN  NaN  NaN   NaN\n",
       "1    -3.0     NaN  NaN  NaN  NaN  NaN  NaN   NaN\n",
       "2     0.0     NaN  NaN  NaN  NaN  NaN  NaN   NaN\n",
       "3     0.0     NaN  NaN  NaN  NaN  NaN  NaN   NaN\n",
       "4     5.0     NaN  NaN  NaN  NaN  NaN  NaN   NaN\n",
       "5     1.0     NaN  NaN  NaN  NaN  NaN  NaN   NaN\n",
       "6  4000.0     NaN  NaN  NaN  NaN  NaN  NaN   NaN"
      ]
     },
     "execution_count": 130,
     "metadata": {},
     "output_type": "execute_result"
    }
   ],
   "source": [
    "t2 = t2.sort_index().reset_index(drop=True)\n",
    "t2"
   ]
  },
  {
   "cell_type": "code",
   "execution_count": 98,
   "metadata": {},
   "outputs": [
    {
     "name": "stdout",
     "output_type": "stream",
     "text": [
      "[-2.0, -3.0, 0.0, 0.0, 5.0, 1.0, 4000.0]\n"
     ]
    }
   ],
   "source": [
    "def G(DATAFRAME):\n",
    "     return(Row_Operator2(DATAFRAME)[1])\n",
    "    \n",
    "#F(TABLEAU)\n",
    "a = []\n",
    "for i in range(len(list(TABLEAU))):\n",
    "    a.append(G(TABLEAU)[i])\n",
    "print(a)"
   ]
  },
  {
   "cell_type": "code",
   "execution_count": 127,
   "metadata": {},
   "outputs": [
    {
     "data": {
      "text/plain": [
       "[-2.0, -3.0, 0.0, 0.0, 5.0, 1.0, 4000.0]"
      ]
     },
     "execution_count": 127,
     "metadata": {},
     "output_type": "execute_result"
    }
   ],
   "source": [
    "G(TABLEAU)"
   ]
  },
  {
   "cell_type": "code",
   "execution_count": null,
   "metadata": {},
   "outputs": [],
   "source": []
  }
 ],
 "metadata": {
  "kernelspec": {
   "display_name": "Python 3",
   "language": "python",
   "name": "python3"
  },
  "language_info": {
   "codemirror_mode": {
    "name": "ipython",
    "version": 3
   },
   "file_extension": ".py",
   "mimetype": "text/x-python",
   "name": "python",
   "nbconvert_exporter": "python",
   "pygments_lexer": "ipython3",
   "version": "3.7.3"
  }
 },
 "nbformat": 4,
 "nbformat_minor": 2
}
